{
 "cells": [
  {
   "cell_type": "code",
   "execution_count": 7,
   "metadata": {},
   "outputs": [],
   "source": [
    "import requests\n",
    "import pandas as pd"
   ]
  },
  {
   "cell_type": "code",
   "execution_count": 8,
   "metadata": {},
   "outputs": [
    {
     "name": "stdout",
     "output_type": "stream",
     "text": [
      "                                                message  error  \\\n",
      "totallogs           Request failed with status code 404   True   \n",
      "totallogs_internal  Request failed with status code 404   True   \n",
      "totalSeconds        Request failed with status code 404   True   \n",
      "totalHS             Request failed with status code 404   True   \n",
      "internal_seconds    Request failed with status code 404   True   \n",
      "internal_hs         Request failed with status code 404   True   \n",
      "logged              Request failed with status code 404   True   \n",
      "\n",
      "                                                               errors  \\\n",
      "totallogs           Error: Request failed with status code 404\\n  ...   \n",
      "totallogs_internal  Error: Request failed with status code 404\\n  ...   \n",
      "totalSeconds        Error: Request failed with status code 404\\n  ...   \n",
      "totalHS             Error: Request failed with status code 404\\n  ...   \n",
      "internal_seconds    Error: Request failed with status code 404\\n  ...   \n",
      "internal_hs         Error: Request failed with status code 404\\n  ...   \n",
      "logged              Error: Request failed with status code 404\\n  ...   \n",
      "\n",
      "                                                                 data  \n",
      "totallogs                                                         476  \n",
      "totallogs_internal                                                307  \n",
      "totalSeconds                                                  2677380  \n",
      "totalHS                                                           744  \n",
      "internal_seconds                                              2005500  \n",
      "internal_hs                                                       557  \n",
      "logged              [{'seconds': 483600, 'hs': 134, 'internal_seco...  \n"
     ]
    }
   ],
   "source": [
    "#URL de la API\n",
    "api_url= \"https://api-intranet-jira.portinos.com/v1/api/get-time-issue/DEVLAR-1738\"\n",
    "#Solicitud GET a la API\n",
    "response= requests.get(api_url)\n",
    "#Verificación exitosa\n",
    "if response.status_code == 200:\n",
    "    #convertir la respuesta JSON a un diccionario de Python\n",
    "    data = response.json()\n",
    "    #Crear dataframe de pandas a partir de los datos\n",
    "    df = pd.DataFrame(data)\n",
    "    print(df)\n",
    "else:\n",
    "    print(f\"Error en la solicitud: {response.status_code}\")"
   ]
  }
 ],
 "metadata": {
  "kernelspec": {
   "display_name": "Python 3",
   "language": "python",
   "name": "python3"
  },
  "language_info": {
   "codemirror_mode": {
    "name": "ipython",
    "version": 3
   },
   "file_extension": ".py",
   "mimetype": "text/x-python",
   "name": "python",
   "nbconvert_exporter": "python",
   "pygments_lexer": "ipython3",
   "version": "3.12.0"
  }
 },
 "nbformat": 4,
 "nbformat_minor": 2
}
